{
 "cells": [
  {
   "cell_type": "markdown",
   "metadata": {},
   "source": [
    "# **Filter & Merging**\n",
    "\n",
    "Combine all three data sources and trim some columns we don't need."
   ]
  },
  {
   "cell_type": "code",
   "execution_count": 1,
   "metadata": {
    "collapsed": true
   },
   "outputs": [],
   "source": [
    "# Libraries\n",
    "\n",
    "from postal.expand import expand_address\n",
    "import pandas as pd\n",
    "import pickle"
   ]
  },
  {
   "cell_type": "code",
   "execution_count": 2,
   "metadata": {
    "collapsed": true
   },
   "outputs": [],
   "source": [
    "# directories\n",
    "\n",
    "# input\n",
    "dataDir = '../../data/external/'\n",
    "icDir = dataDir + 'iowa-city-police/'\n",
    "uiDir = dataDir + 'ui-police/'\n",
    "\n",
    "# output\n",
    "processDir = '../../data/processed/'\n",
    "icOut = processDir + 'iowa-city-police/'\n",
    "uiOut = processDir + 'ui-police/'\n",
    "\n",
    "# Dataframes\n",
    "citeDF = pd.read_pickle((icOut + 'icpd-cites.pickle'))\n",
    "arrDF = pd.read_pickle((icOut + 'arrests-icpd.pickle'))\n",
    "dockDF = pd.read_pickle((uiOut + 'ui-police-docket.pickle'))"
   ]
  },
  {
   "cell_type": "markdown",
   "metadata": {},
   "source": [
    "### Columns, Variables"
   ]
  },
  {
   "cell_type": "code",
   "execution_count": 3,
   "metadata": {
    "collapsed": false
   },
   "outputs": [
    {
     "data": {
      "text/plain": [
       "Index([u'lName', u'fName', u'homeAddr', u'homeCity', u'dob', u'timestamp',\n",
       "       u'charge', u'incAddr', u'incDate', u'incFormAddr'],\n",
       "      dtype='object')"
      ]
     },
     "execution_count": 3,
     "metadata": {},
     "output_type": "execute_result"
    }
   ],
   "source": [
    "citeDF.columns"
   ]
  },
  {
   "cell_type": "code",
   "execution_count": 4,
   "metadata": {
    "collapsed": false
   },
   "outputs": [
    {
     "data": {
      "text/plain": [
       "Index([u'name', u'dob', u'homeAddr', u'homeCity', u'timestamp', u'incDate',\n",
       "       u'incAddr', u'incAct', u'charge', u'incFormAddr'],\n",
       "      dtype='object')"
      ]
     },
     "execution_count": 4,
     "metadata": {},
     "output_type": "execute_result"
    }
   ],
   "source": [
    "arrDF.columns"
   ]
  },
  {
   "cell_type": "code",
   "execution_count": 5,
   "metadata": {
    "collapsed": false
   },
   "outputs": [
    {
     "data": {
      "text/plain": [
       "Index([u'incDate', u'name', u'age', u'homeAddr', u'incAddr', u'date2',\n",
       "       u'chargeCode', u'charge', u'incTime', u'homeCity', u'homeState',\n",
       "       u'homeZip'],\n",
       "      dtype='object')"
      ]
     },
     "execution_count": 5,
     "metadata": {},
     "output_type": "execute_result"
    }
   ],
   "source": [
    "dockDF.columns"
   ]
  },
  {
   "cell_type": "markdown",
   "metadata": {},
   "source": [
    "We want to keep the following variables, and we'll work our way towards this schema:\n",
    "\n",
    "```\n",
    "Arrest Record\n",
    "---------------------------------\n",
    "    name (last, first middle)\n",
    "    age\n",
    "    date/timestamp (unix)\n",
    "    incAddr\n",
    "    charge\n",
    "```"
   ]
  },
  {
   "cell_type": "code",
   "execution_count": 6,
   "metadata": {
    "collapsed": false
   },
   "outputs": [],
   "source": [
    "# Name\n",
    "citeDF['name'] = citeDF['lName'] + ', ' + citeDF['fName']"
   ]
  },
  {
   "cell_type": "code",
   "execution_count": 7,
   "metadata": {
    "collapsed": false
   },
   "outputs": [],
   "source": [
    "# dob parsing\n",
    "citeDF.dropna(subset=['dob'], inplace=True)\n",
    "citeDF['dob'] = pd.to_datetime(citeDF.dob, infer_datetime_format=True, exact=False, errors='coerce')"
   ]
  },
  {
   "cell_type": "code",
   "execution_count": 8,
   "metadata": {
    "collapsed": false
   },
   "outputs": [],
   "source": [
    "# Age in years, 365 days in a year\n",
    "def calcAge(dob, inc):\n",
    "    \n",
    "    # error handling\n",
    "    if ((type(dob) or type(inc)) != pd.tslib.Timestamp):\n",
    "        return\n",
    "    \n",
    "    td = (inc - dob).days\n",
    "    return td // 365\n",
    "\n",
    "# Naive implementation has trouble with missing values\n",
    "#citeDF.age = citeDF.incDate - citeDF.dob\n",
    "# citeDF.age = citeDF.age.apply(lambda x: x.days // 365)\n",
    "\n",
    "\n",
    "citeDF['age'] = citeDF.apply(lambda x: calcAge(x.dob, x.incDate), axis=1)"
   ]
  },
  {
   "cell_type": "code",
   "execution_count": null,
   "metadata": {
    "collapsed": false
   },
   "outputs": [],
   "source": [
    "citeDF.head(2)"
   ]
  },
  {
   "cell_type": "code",
   "execution_count": null,
   "metadata": {
    "collapsed": true
   },
   "outputs": [],
   "source": [
    "# timestamp\n",
    "### COME BACK TO TIMESTAMP\n",
    "all.data$arrtime <- (((as.numeric(all.data$arrtime))-(as.numeric(all.data$arryear)*1000000))/60) %% 24\n",
    "citeDF.timestamp = "
   ]
  },
  {
   "cell_type": "markdown",
   "metadata": {},
   "source": [
    "Now we move onto the Iowa City Police Department arrests. We only need...\n",
    "\n",
    "- [x]Age calculation\n",
    "- [ ] Timestamp to UTC calc"
   ]
  },
  {
   "cell_type": "code",
   "execution_count": 9,
   "metadata": {
    "collapsed": false
   },
   "outputs": [],
   "source": [
    "# age\n",
    "arrDF['age'] = arrDF.apply(lambda x: calcAge(x.dob, x.incDate), axis=1)"
   ]
  },
  {
   "cell_type": "code",
   "execution_count": null,
   "metadata": {
    "collapsed": true
   },
   "outputs": [],
   "source": [
    "# timestamp\n"
   ]
  },
  {
   "cell_type": "markdown",
   "metadata": {},
   "source": [
    "University of Iowa Police docket, renaming to make it easier when we filter cols."
   ]
  },
  {
   "cell_type": "code",
   "execution_count": 10,
   "metadata": {
    "collapsed": false
   },
   "outputs": [],
   "source": [
    "dockDF.rename(columns={'incAddr': 'incFormAddr', 'incTime': 'timestamp'}, inplace=True)"
   ]
  },
  {
   "cell_type": "markdown",
   "metadata": {},
   "source": [
    "---\n",
    "\n",
    "Now we filter the columns, so that we have a slimmer dataset thats normalized. We'll also add the type of criminal activity (source) in a column."
   ]
  },
  {
   "cell_type": "code",
   "execution_count": 11,
   "metadata": {
    "collapsed": true
   },
   "outputs": [],
   "source": [
    "# add that column to each df\n",
    "citeDF['source'] = 'c'\n",
    "arrDF['source'] = 'a'\n",
    "dockDF['source'] = 'd'"
   ]
  },
  {
   "cell_type": "code",
   "execution_count": 12,
   "metadata": {
    "collapsed": false
   },
   "outputs": [],
   "source": [
    "# filter columns\n",
    "slimCols = ['name', 'age', 'incDate', 'timestamp', 'charge', 'incFormAddr', 'source']\n",
    "# and combine!\n",
    "combDF = pd.concat([citeDF[slimCols], arrDF[slimCols], dockDF[slimCols]])"
   ]
  },
  {
   "cell_type": "code",
   "execution_count": 14,
   "metadata": {
    "collapsed": false
   },
   "outputs": [
    {
     "name": "stdout",
     "output_type": "stream",
     "text": [
      "139698 total records\n",
      "136108 total records after dropping those without a charge,\n",
      "3590 deleted\n"
     ]
    }
   ],
   "source": [
    "# drop records without a charge, because that's (in the end), what we're interested in.\n",
    "\n",
    "before = combDF.shape[0]\n",
    "print ('{} total records'.format(before))\n",
    "\n",
    "combDF.dropna(subset=['charge'], inplace=True)\n",
    "\n",
    "print ('{} after dropping those without a charge,\\n{} deleted'\\\n",
    "      .format(combDF.shape[0], before - combDF.shape[0]))"
   ]
  },
  {
   "cell_type": "code",
   "execution_count": 16,
   "metadata": {
    "collapsed": false
   },
   "outputs": [],
   "source": [
    "# SAVE THAT ISH OUT\n",
    "combDF.to_pickle((processDir + 'combined-activity(no ts).pickle'))\n",
    "combDF.to_csv((processDir + 'combined-activity(no ts).csv'), index=False)"
   ]
  },
  {
   "cell_type": "code",
   "execution_count": null,
   "metadata": {
    "collapsed": true
   },
   "outputs": [],
   "source": []
  }
 ],
 "metadata": {
  "anaconda-cloud": {},
  "kernelspec": {
   "display_name": "Python [conda env:py27]",
   "language": "python",
   "name": "conda-env-py27-py"
  },
  "language_info": {
   "codemirror_mode": {
    "name": "ipython",
    "version": 2
   },
   "file_extension": ".py",
   "mimetype": "text/x-python",
   "name": "python",
   "nbconvert_exporter": "python",
   "pygments_lexer": "ipython2",
   "version": "2.7.12"
  }
 },
 "nbformat": 4,
 "nbformat_minor": 1
}
