{
 "cells": [
  {
   "cell_type": "markdown",
   "metadata": {},
   "source": [
    "# University of Iowa Formatting\n",
    "\n",
    "\n",
    "To do list here."
   ]
  },
  {
   "cell_type": "code",
   "execution_count": 4,
   "metadata": {
    "collapsed": false
   },
   "outputs": [],
   "source": [
    "# Libraries\n",
    "\n",
    "from postal.expand import expand_address\n",
    "import pandas as pd\n",
    "import pickle"
   ]
  },
  {
   "cell_type": "code",
   "execution_count": 6,
   "metadata": {
    "collapsed": false
   },
   "outputs": [],
   "source": [
    "# Directories\n",
    "\n",
    "dataDir = '../../data/external/ui-police/'\n",
    "\n",
    "arrestsRaw = dataDir + 'docket.csv'\n",
    "processDir = '../../data/processed/ui-police/'"
   ]
  },
  {
   "cell_type": "code",
   "execution_count": 7,
   "metadata": {
    "collapsed": false
   },
   "outputs": [],
   "source": [
    "# addresses\n",
    "\n",
    "def formatAddr(raw):\n",
    "    '''Function to format an address only if the raw string is valid.\n",
    "    Input: String containing address\n",
    "    Output: Normalized address'''\n",
    "    \n",
    "    # Error checking\n",
    "    if ((type(raw) != str) | (len(raw) == 0)):\n",
    "        return False\n",
    "    \n",
    "    # Prepare and get info\n",
    "    query = raw + ', Iowa City, Iowa'\n",
    "    expanded = expand_address(query)\n",
    "    \n",
    "    # return normalized address or notify\n",
    "    directions = ['nb', 'eb', 'sb', 'wb']\n",
    "    if (len(expanded) > 0):\n",
    "        bestCand = expanded[0]\n",
    "        if (bestCand[:2]) in directions:\n",
    "            return bestCand[3:]\n",
    "        else:\n",
    "            return bestCand\n",
    "    else:\n",
    "        print (raw + ' did not expand!')"
   ]
  },
  {
   "cell_type": "code",
   "execution_count": 32,
   "metadata": {
    "collapsed": false
   },
   "outputs": [
    {
     "data": {
      "text/html": [
       "<div>\n",
       "<table border=\"1\" class=\"dataframe\">\n",
       "  <thead>\n",
       "    <tr style=\"text-align: right;\">\n",
       "      <th></th>\n",
       "      <th>incDate</th>\n",
       "      <th>name</th>\n",
       "      <th>age</th>\n",
       "      <th>homeAddr</th>\n",
       "      <th>incAddr</th>\n",
       "      <th>date2</th>\n",
       "      <th>chargeCode</th>\n",
       "      <th>charge</th>\n",
       "      <th>incTime</th>\n",
       "      <th>homeCity</th>\n",
       "      <th>homeState</th>\n",
       "      <th>homeZip</th>\n",
       "    </tr>\n",
       "  </thead>\n",
       "  <tbody>\n",
       "    <tr>\n",
       "      <th>0</th>\n",
       "      <td>10/12/16</td>\n",
       "      <td>KESSELL, BRANDON GAGE</td>\n",
       "      <td>18</td>\n",
       "      <td>1232 BURGE HALL</td>\n",
       "      <td>HANCHER FOOT BRIDGE EAST</td>\n",
       "      <td>NaN</td>\n",
       "      <td>124.401</td>\n",
       "      <td>POSSESSION:CONTROL SUBSTANCE</td>\n",
       "      <td>1:13</td>\n",
       "      <td>IOWA CITY</td>\n",
       "      <td>IA</td>\n",
       "      <td>52242</td>\n",
       "    </tr>\n",
       "    <tr>\n",
       "      <th>1</th>\n",
       "      <td>10/12/16</td>\n",
       "      <td>KESSELL, BRANDON GAGE</td>\n",
       "      <td>18</td>\n",
       "      <td>1232 BURGE HALL</td>\n",
       "      <td>HANCHER FOOT BRIDGE EAST</td>\n",
       "      <td>NaN</td>\n",
       "      <td>124.414</td>\n",
       "      <td>DRUG PARAPHERNALIA</td>\n",
       "      <td>1:13</td>\n",
       "      <td>IOWA CITY</td>\n",
       "      <td>IA</td>\n",
       "      <td>52242</td>\n",
       "    </tr>\n",
       "  </tbody>\n",
       "</table>\n",
       "</div>"
      ],
      "text/plain": [
       "    incDate                   name  age         homeAddr  \\\n",
       "0  10/12/16  KESSELL, BRANDON GAGE   18  1232 BURGE HALL   \n",
       "1  10/12/16  KESSELL, BRANDON GAGE   18  1232 BURGE HALL   \n",
       "\n",
       "                    incAddr date2 chargeCode                        charge  \\\n",
       "0  HANCHER FOOT BRIDGE EAST   NaN    124.401  POSSESSION:CONTROL SUBSTANCE   \n",
       "1  HANCHER FOOT BRIDGE EAST   NaN    124.414            DRUG PARAPHERNALIA   \n",
       "\n",
       "  incTime   homeCity homeState homeZip  \n",
       "0    1:13  IOWA CITY        IA   52242  \n",
       "1    1:13  IOWA CITY        IA   52242  "
      ]
     },
     "execution_count": 32,
     "metadata": {},
     "output_type": "execute_result"
    }
   ],
   "source": [
    "# read in: add cols, parse dates, ...\n",
    "\n",
    "arrDF = pd.read_csv(arrestsRaw)\n",
    "arrDF.rename(columns={'arrLocation': 'incAddr', 'date': 'incDate', 'time': 'incTime', 'address': 'homeAddr'}, inplace=True)\n",
    "\n",
    "arrDF.head(2)"
   ]
  },
  {
   "cell_type": "code",
   "execution_count": 13,
   "metadata": {
    "collapsed": true
   },
   "outputs": [],
   "source": [
    "# read the dates and construct a time stamp\n",
    "arrDF.incDate = pd.to_datetime(arrDF.incDate) # date"
   ]
  },
  {
   "cell_type": "code",
   "execution_count": 33,
   "metadata": {
    "collapsed": true
   },
   "outputs": [],
   "source": [
    "# address normalization\n",
    "arrDF.incAddr = arrDF.incAddr.str.lower()\n",
    "arrDF.incAddr = arrDF.incAddr.apply(lambda x: formatAddr(x))"
   ]
  },
  {
   "cell_type": "code",
   "execution_count": 23,
   "metadata": {
    "collapsed": false
   },
   "outputs": [
    {
     "data": {
      "text/plain": [
       "JUVENILE                    497\n",
       "INIAMA, UWEM KOKO            81\n",
       "VOGELSANG, VINCENT JAY       76\n",
       "ROBERTS, RICKIE ALLEN        45\n",
       "MURDOCK, ROBERT  ALLEN       26\n",
       "HINES, CLIFFORD CLYDE        26\n",
       "ALDRICH, PATTY  KAY          21\n",
       "PATTON, DANYELLE NICOLE      19\n",
       "WARSON, MANDY RAE            19\n",
       "RODDEN, RICK  EDWARD         17\n",
       "RING, KENNETH DALE           15\n",
       "YOUNG, BRETT  DAVID          15\n",
       "ODEAN, JACOB JAMES           14\n",
       "HENDRIK, NICODEMUS           13\n",
       "HUA, JAMES THAI              13\n",
       "OLLINGER, GUS  DANIEL        13\n",
       "LEIBOLD, ALEC JORDAN         13\n",
       "ADELMUND, GARY  ALAN         12\n",
       "DAVIDSON, GEORGE ALLAN       12\n",
       "YANG, SHUJUN                 11\n",
       "TUTT, JASON LAMONT           11\n",
       "HIGHTOWER, ROBERT LAMONT     11\n",
       "SPICER, MARK CORTEZ          11\n",
       "LORENTSON, GINGER LEE        11\n",
       "DUFFEL, GARY LEON            10\n",
       "Name: name, dtype: int64"
      ]
     },
     "execution_count": 23,
     "metadata": {},
     "output_type": "execute_result"
    }
   ],
   "source": [
    "arrDF.name.value_counts().head(25)"
   ]
  },
  {
   "cell_type": "code",
   "execution_count": 36,
   "metadata": {
    "collapsed": false
   },
   "outputs": [
    {
     "data": {
      "text/html": [
       "<div>\n",
       "<table border=\"1\" class=\"dataframe\">\n",
       "  <thead>\n",
       "    <tr style=\"text-align: right;\">\n",
       "      <th></th>\n",
       "      <th>name</th>\n",
       "      <th>age</th>\n",
       "      <th>incDate</th>\n",
       "      <th>incTime</th>\n",
       "      <th>incAddr</th>\n",
       "      <th>charge</th>\n",
       "    </tr>\n",
       "  </thead>\n",
       "  <tbody>\n",
       "    <tr>\n",
       "      <th>5662</th>\n",
       "      <td>LORENTSON, GINGER LEE</td>\n",
       "      <td>43</td>\n",
       "      <td>5/4/12</td>\n",
       "      <td>11:11</td>\n",
       "      <td>iowa memorial union iowa city iowa</td>\n",
       "      <td>CRIMINAL TRESPASS</td>\n",
       "    </tr>\n",
       "    <tr>\n",
       "      <th>5663</th>\n",
       "      <td>LORENTSON, GINGER LEE</td>\n",
       "      <td>43</td>\n",
       "      <td>5/4/12</td>\n",
       "      <td>8:30</td>\n",
       "      <td>imu 3rd floor iowa city iowa</td>\n",
       "      <td>CRIMINAL TRESPASS</td>\n",
       "    </tr>\n",
       "    <tr>\n",
       "      <th>7029</th>\n",
       "      <td>LORENTSON, GINGER LEE</td>\n",
       "      <td>42</td>\n",
       "      <td>10/15/11</td>\n",
       "      <td>6:19</td>\n",
       "      <td>ucc public safety iowa city iowa</td>\n",
       "      <td>CRIMINAL TRESPASS</td>\n",
       "    </tr>\n",
       "    <tr>\n",
       "      <th>7774</th>\n",
       "      <td>LORENTSON, GINGER LEE</td>\n",
       "      <td>42</td>\n",
       "      <td>6/29/11</td>\n",
       "      <td>21:06</td>\n",
       "      <td>spence labs van allen walkway iowa city iowa</td>\n",
       "      <td>CRIMINAL TRESPASS</td>\n",
       "    </tr>\n",
       "    <tr>\n",
       "      <th>10105</th>\n",
       "      <td>LORENTSON, GINGER LEE</td>\n",
       "      <td>41</td>\n",
       "      <td>8/9/10</td>\n",
       "      <td>10:41</td>\n",
       "      <td>library 1st level media area iowa city iowa</td>\n",
       "      <td>CRIMINAL TRESPASS</td>\n",
       "    </tr>\n",
       "    <tr>\n",
       "      <th>11285</th>\n",
       "      <td>LORENTSON, GINGER LEE</td>\n",
       "      <td>40</td>\n",
       "      <td>9/30/09</td>\n",
       "      <td>22:05</td>\n",
       "      <td>field house northwest entrance iowa city iowa</td>\n",
       "      <td>CRIMINAL TRESPASS</td>\n",
       "    </tr>\n",
       "    <tr>\n",
       "      <th>11322</th>\n",
       "      <td>LORENTSON, GINGER LEE</td>\n",
       "      <td>40</td>\n",
       "      <td>9/22/09</td>\n",
       "      <td>5:30</td>\n",
       "      <td>library 4th floor iowa city iowa</td>\n",
       "      <td>CRIMINAL TRESPASS</td>\n",
       "    </tr>\n",
       "    <tr>\n",
       "      <th>11523</th>\n",
       "      <td>LORENTSON, GINGER LEE</td>\n",
       "      <td>40</td>\n",
       "      <td>8/24/09</td>\n",
       "      <td>0:22</td>\n",
       "      <td>theatre building extension iowa city iowa</td>\n",
       "      <td>CRIMINAL TRESPASS</td>\n",
       "    </tr>\n",
       "    <tr>\n",
       "      <th>11557</th>\n",
       "      <td>LORENTSON, GINGER LEE</td>\n",
       "      <td>40</td>\n",
       "      <td>8/15/09</td>\n",
       "      <td>0:57</td>\n",
       "      <td>gilmore hall w entrance iowa city iowa</td>\n",
       "      <td>CRIMINAL TRESPASS</td>\n",
       "    </tr>\n",
       "    <tr>\n",
       "      <th>11573</th>\n",
       "      <td>LORENTSON, GINGER LEE</td>\n",
       "      <td>40</td>\n",
       "      <td>8/8/09</td>\n",
       "      <td>6:07</td>\n",
       "      <td>pbb basement iowa city iowa</td>\n",
       "      <td>CRIMINAL TRESPASS</td>\n",
       "    </tr>\n",
       "    <tr>\n",
       "      <th>11618</th>\n",
       "      <td>LORENTSON, GINGER LEE</td>\n",
       "      <td>40</td>\n",
       "      <td>7/17/09</td>\n",
       "      <td>19:35</td>\n",
       "      <td>lindquist center courtyard iowa city iowa</td>\n",
       "      <td>CRIMINAL TRESPASS</td>\n",
       "    </tr>\n",
       "  </tbody>\n",
       "</table>\n",
       "</div>"
      ],
      "text/plain": [
       "                        name  age   incDate incTime  \\\n",
       "5662   LORENTSON, GINGER LEE   43    5/4/12   11:11   \n",
       "5663   LORENTSON, GINGER LEE   43    5/4/12    8:30   \n",
       "7029   LORENTSON, GINGER LEE   42  10/15/11    6:19   \n",
       "7774   LORENTSON, GINGER LEE   42   6/29/11   21:06   \n",
       "10105  LORENTSON, GINGER LEE   41    8/9/10   10:41   \n",
       "11285  LORENTSON, GINGER LEE   40   9/30/09   22:05   \n",
       "11322  LORENTSON, GINGER LEE   40   9/22/09    5:30   \n",
       "11523  LORENTSON, GINGER LEE   40   8/24/09    0:22   \n",
       "11557  LORENTSON, GINGER LEE   40   8/15/09    0:57   \n",
       "11573  LORENTSON, GINGER LEE   40    8/8/09    6:07   \n",
       "11618  LORENTSON, GINGER LEE   40   7/17/09   19:35   \n",
       "\n",
       "                                             incAddr             charge  \n",
       "5662              iowa memorial union iowa city iowa  CRIMINAL TRESPASS  \n",
       "5663                    imu 3rd floor iowa city iowa  CRIMINAL TRESPASS  \n",
       "7029                ucc public safety iowa city iowa  CRIMINAL TRESPASS  \n",
       "7774    spence labs van allen walkway iowa city iowa  CRIMINAL TRESPASS  \n",
       "10105    library 1st level media area iowa city iowa  CRIMINAL TRESPASS  \n",
       "11285  field house northwest entrance iowa city iowa  CRIMINAL TRESPASS  \n",
       "11322               library 4th floor iowa city iowa  CRIMINAL TRESPASS  \n",
       "11523      theatre building extension iowa city iowa  CRIMINAL TRESPASS  \n",
       "11557         gilmore hall w entrance iowa city iowa  CRIMINAL TRESPASS  \n",
       "11573                    pbb basement iowa city iowa  CRIMINAL TRESPASS  \n",
       "11618      lindquist center courtyard iowa city iowa  CRIMINAL TRESPASS  "
      ]
     },
     "execution_count": 36,
     "metadata": {},
     "output_type": "execute_result"
    }
   ],
   "source": [
    "arrDF[arrDF.name == 'LORENTSON, GINGER LEE'][['name', 'age', 'incDate', 'incTime', 'incAddr', 'charge']]"
   ]
  },
  {
   "cell_type": "code",
   "execution_count": null,
   "metadata": {
    "collapsed": true
   },
   "outputs": [],
   "source": []
  }
 ],
 "metadata": {
  "anaconda-cloud": {},
  "kernelspec": {
   "display_name": "Python [conda env:py27]",
   "language": "python",
   "name": "conda-env-py27-py"
  },
  "language_info": {
   "codemirror_mode": {
    "name": "ipython",
    "version": 2
   },
   "file_extension": ".py",
   "mimetype": "text/x-python",
   "name": "python",
   "nbconvert_exporter": "python",
   "pygments_lexer": "ipython2",
   "version": "2.7.12"
  }
 },
 "nbformat": 4,
 "nbformat_minor": 1
}
