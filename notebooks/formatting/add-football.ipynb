{
 "cells": [
  {
   "cell_type": "markdown",
   "metadata": {},
   "source": [
    "# Add Football Vars"
   ]
  },
  {
   "cell_type": "code",
   "execution_count": 1,
   "metadata": {
    "collapsed": true
   },
   "outputs": [],
   "source": [
    "import pandas as pd\n",
    "import pickle\n",
    "\n",
    "from datetime import datetime\n",
    "from datetime import timedelta"
   ]
  },
  {
   "cell_type": "code",
   "execution_count": 2,
   "metadata": {
    "collapsed": true
   },
   "outputs": [],
   "source": [
    "# directories\n",
    "\n",
    "# input\n",
    "dataDir = '../../data/external/'\n",
    "processDir = '../../data/processed/'\n",
    "chargeDir = processDir + 'charges/'\n",
    "\n",
    "icDir = dataDir + 'iowa-city-police/'\n",
    "uiDir = dataDir + 'ui-police/'\n",
    "gamesF = processDir + 'football/iowa-home-games.csv'\n",
    "\n",
    "# output\n",
    "icOut = processDir + 'iowa-city-police/'\n",
    "uiOut = processDir + 'ui-police/'"
   ]
  },
  {
   "cell_type": "code",
   "execution_count": 4,
   "metadata": {
    "collapsed": false
   },
   "outputs": [],
   "source": [
    "# Dataframes\n",
    "combDF = pd.read_pickle((processDir + 'combined-activity.pickle'))\n",
    "homeGames = pd.read_csv(gamesF, parse_dates=['Date'], infer_datetime_format=True)"
   ]
  },
  {
   "cell_type": "code",
   "execution_count": 5,
   "metadata": {
    "collapsed": false
   },
   "outputs": [],
   "source": [
    "# functions\n",
    "\n",
    "# pd.tslib.Timestamp('2012-09-29 00:00:00')\n",
    "def lookupGame(date, gamesDF):\n",
    "    # returns a single game from the games data frame\n",
    "    return gamesDF[gamesDF['Date'] == date]\n",
    "\n",
    "def lookupGameWeekend(date, gamesDF):\n",
    "    day = date.dayofweek\n",
    "    # Conditional to look up the saturday of a game weekend\n",
    "    if (day >= 4):\n",
    "        if (day == 6):\n",
    "            adj = date - timedelta(days=1)\n",
    "            return lookupGame(adj, gamesDF)\n",
    "        elif (day == 4):\n",
    "            adj = date + timedelta(days=1)\n",
    "            return lookupGame(adj, gamesDF)\n",
    "        else:\n",
    "            return lookupGame(date, gamesDF)\n",
    "        \n",
    "def isGameWeekend(game):\n",
    "    if (game is None) or (len(game) == 0):\n",
    "        return\n",
    "    if isinstance(game, pd.DataFrame):\n",
    "        if game.size > 0:\n",
    "            return True\n",
    "        else:\n",
    "            return False  \n",
    "    \n",
    "def isTeamWin(game):\n",
    "    if (game is None) or (len(game) == 0):\n",
    "        return\n",
    "    if isinstance(game, pd.DataFrame):\n",
    "        return game.iloc[0].Win.astype(int)\n",
    "\n",
    "def lookupVisitTeam(game):\n",
    "    if (game is None) or (len(game) == 0):\n",
    "        return\n",
    "    if isinstance(game, pd.DataFrame):\n",
    "        return game.iloc[0]['Visitor']"
   ]
  },
  {
   "cell_type": "code",
   "execution_count": 6,
   "metadata": {
    "collapsed": false
   },
   "outputs": [],
   "source": [
    "combDF['gameWeekend'] = combDF.incDate.apply(lambda x: isGameWeekend(lookupGameWeekend(x, homeGames)))"
   ]
  },
  {
   "cell_type": "code",
   "execution_count": 7,
   "metadata": {
    "collapsed": true
   },
   "outputs": [],
   "source": [
    "combDF['gameWin'] = combDF.incDate.apply(lambda x: isTeamWin(lookupGameWeekend(x, homeGames)))"
   ]
  },
  {
   "cell_type": "code",
   "execution_count": 8,
   "metadata": {
    "collapsed": true
   },
   "outputs": [],
   "source": [
    "combDF['gameTeam'] = combDF.incDate.apply(lambda x: lookupVisitTeam(lookupGameWeekend(x, homeGames)))"
   ]
  },
  {
   "cell_type": "code",
   "execution_count": 9,
   "metadata": {
    "collapsed": false
   },
   "outputs": [
    {
     "data": {
      "text/html": [
       "<div>\n",
       "<table border=\"1\" class=\"dataframe\">\n",
       "  <thead>\n",
       "    <tr style=\"text-align: right;\">\n",
       "      <th></th>\n",
       "      <th>name</th>\n",
       "      <th>age</th>\n",
       "      <th>incDate</th>\n",
       "      <th>timestamp</th>\n",
       "      <th>category</th>\n",
       "      <th>charge</th>\n",
       "      <th>incFormAddr</th>\n",
       "      <th>source</th>\n",
       "      <th>gameWeekend</th>\n",
       "      <th>gameWin</th>\n",
       "      <th>gameTeam</th>\n",
       "    </tr>\n",
       "  </thead>\n",
       "  <tbody>\n",
       "    <tr>\n",
       "      <th>0</th>\n",
       "      <td>Hamann, Brian Joel</td>\n",
       "      <td>25.0</td>\n",
       "      <td>2006-03-26</td>\n",
       "      <td>2006-03-26 03:54:46</td>\n",
       "      <td>PUBLIC INTOX</td>\n",
       "      <td>Public Intoxication</td>\n",
       "      <td>1 avenue south court street iowa city iowa</td>\n",
       "      <td>a</td>\n",
       "      <td>None</td>\n",
       "      <td>NaN</td>\n",
       "      <td>None</td>\n",
       "    </tr>\n",
       "    <tr>\n",
       "      <th>1</th>\n",
       "      <td>PATHEUANGSIN, WALLY</td>\n",
       "      <td>16.0</td>\n",
       "      <td>2007-06-27</td>\n",
       "      <td>2007-06-27 08:47:05</td>\n",
       "      <td>OPERATING A VEHICLE</td>\n",
       "      <td>Operate Veh Without Owners Consent</td>\n",
       "      <td>1 avenue south court street iowa city iowa</td>\n",
       "      <td>a</td>\n",
       "      <td>None</td>\n",
       "      <td>NaN</td>\n",
       "      <td>None</td>\n",
       "    </tr>\n",
       "    <tr>\n",
       "      <th>2</th>\n",
       "      <td>HOWARD, CURLEY LEE</td>\n",
       "      <td>56.0</td>\n",
       "      <td>2010-01-24</td>\n",
       "      <td>2010-01-24 01:05:39</td>\n",
       "      <td>DRIVING WHILE LIC SUSP</td>\n",
       "      <td>DRIVING WHILE BARRED</td>\n",
       "      <td>1 avenue south lower muscatine road iowa city...</td>\n",
       "      <td>a</td>\n",
       "      <td>None</td>\n",
       "      <td>NaN</td>\n",
       "      <td>None</td>\n",
       "    </tr>\n",
       "    <tr>\n",
       "      <th>3</th>\n",
       "      <td>Montgomery, Christopher Joseph</td>\n",
       "      <td>23.0</td>\n",
       "      <td>2006-10-22</td>\n",
       "      <td>2006-10-22 15:01:01</td>\n",
       "      <td>POSSESSION:CONTROL SUBSTANCE</td>\n",
       "      <td>Possession Controlled Substance</td>\n",
       "      <td>1 avenue south lower muscatine road iowa city...</td>\n",
       "      <td>a</td>\n",
       "      <td>None</td>\n",
       "      <td>NaN</td>\n",
       "      <td>None</td>\n",
       "    </tr>\n",
       "    <tr>\n",
       "      <th>4</th>\n",
       "      <td>Hildner, Johann Richard</td>\n",
       "      <td>23.0</td>\n",
       "      <td>2009-11-07</td>\n",
       "      <td>2009-11-07 16:21:17</td>\n",
       "      <td>POSSESSION:CONTROL SUBSTANCE</td>\n",
       "      <td>Possession Controlled Substance</td>\n",
       "      <td>1 avenue south lower muscatine road iowa city...</td>\n",
       "      <td>a</td>\n",
       "      <td>True</td>\n",
       "      <td>0.0</td>\n",
       "      <td>Northwestern</td>\n",
       "    </tr>\n",
       "  </tbody>\n",
       "</table>\n",
       "</div>"
      ],
      "text/plain": [
       "                             name   age    incDate           timestamp  \\\n",
       "0              Hamann, Brian Joel  25.0 2006-03-26 2006-03-26 03:54:46   \n",
       "1             PATHEUANGSIN, WALLY  16.0 2007-06-27 2007-06-27 08:47:05   \n",
       "2              HOWARD, CURLEY LEE  56.0 2010-01-24 2010-01-24 01:05:39   \n",
       "3  Montgomery, Christopher Joseph  23.0 2006-10-22 2006-10-22 15:01:01   \n",
       "4         Hildner, Johann Richard  23.0 2009-11-07 2009-11-07 16:21:17   \n",
       "\n",
       "                       category                              charge  \\\n",
       "0                  PUBLIC INTOX                 Public Intoxication   \n",
       "1           OPERATING A VEHICLE  Operate Veh Without Owners Consent   \n",
       "2        DRIVING WHILE LIC SUSP                DRIVING WHILE BARRED   \n",
       "3  POSSESSION:CONTROL SUBSTANCE     Possession Controlled Substance   \n",
       "4  POSSESSION:CONTROL SUBSTANCE     Possession Controlled Substance   \n",
       "\n",
       "                                         incFormAddr source gameWeekend  \\\n",
       "0         1 avenue south court street iowa city iowa      a        None   \n",
       "1         1 avenue south court street iowa city iowa      a        None   \n",
       "2   1 avenue south lower muscatine road iowa city...      a        None   \n",
       "3   1 avenue south lower muscatine road iowa city...      a        None   \n",
       "4   1 avenue south lower muscatine road iowa city...      a        True   \n",
       "\n",
       "   gameWin      gameTeam  \n",
       "0      NaN          None  \n",
       "1      NaN          None  \n",
       "2      NaN          None  \n",
       "3      NaN          None  \n",
       "4      0.0  Northwestern  "
      ]
     },
     "execution_count": 9,
     "metadata": {},
     "output_type": "execute_result"
    }
   ],
   "source": [
    "combDF.head()"
   ]
  },
  {
   "cell_type": "markdown",
   "metadata": {},
   "source": [
    "### Save out"
   ]
  },
  {
   "cell_type": "code",
   "execution_count": 10,
   "metadata": {
    "collapsed": true
   },
   "outputs": [],
   "source": [
    "combDF.to_pickle((processDir + 'combined-football.pickle'))\n",
    "combDF.to_csv((processDir + 'combined-football.csv'), index=False)"
   ]
  },
  {
   "cell_type": "code",
   "execution_count": null,
   "metadata": {
    "collapsed": true
   },
   "outputs": [],
   "source": []
  }
 ],
 "metadata": {
  "anaconda-cloud": {},
  "kernelspec": {
   "display_name": "Python [conda root]",
   "language": "python",
   "name": "conda-root-py"
  },
  "language_info": {
   "codemirror_mode": {
    "name": "ipython",
    "version": 3
   },
   "file_extension": ".py",
   "mimetype": "text/x-python",
   "name": "python",
   "nbconvert_exporter": "python",
   "pygments_lexer": "ipython3",
   "version": "3.5.2"
  }
 },
 "nbformat": 4,
 "nbformat_minor": 1
}
