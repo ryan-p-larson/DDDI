{
 "cells": [
  {
   "cell_type": "markdown",
   "metadata": {},
   "source": [
    "# University of Iowa Formatting\n",
    "\n",
    "\n",
    "To do list here."
   ]
  },
  {
   "cell_type": "code",
   "execution_count": 6,
   "metadata": {
    "collapsed": false
   },
   "outputs": [],
   "source": [
    "# Libraries\n",
    "\n",
    "from postal.expand import expand_address\n",
    "import pandas as pd\n",
    "import pickle\n",
    "\n",
    "import datetime"
   ]
  },
  {
   "cell_type": "code",
   "execution_count": 2,
   "metadata": {
    "collapsed": false
   },
   "outputs": [],
   "source": [
    "# Directories\n",
    "\n",
    "dataDir = '../../data/external/ui-police/'\n",
    "\n",
    "arrestsRaw = dataDir + 'docket.csv'\n",
    "processDir = '../../data/processed/ui-police/'\n",
    "chargeDir = '../../data/processed/charges/'"
   ]
  },
  {
   "cell_type": "code",
   "execution_count": 3,
   "metadata": {
    "collapsed": false
   },
   "outputs": [],
   "source": [
    "# addresses\n",
    "\n",
    "def formatAddr(raw):\n",
    "    '''Function to format an address only if the raw string is valid.\n",
    "    Input: String containing address\n",
    "    Output: Normalized address'''\n",
    "    \n",
    "    # Error checking\n",
    "    if ((type(raw) != str) | (len(raw) == 0)):\n",
    "        return False\n",
    "    \n",
    "    # Prepare and get info\n",
    "    query = raw + ', Iowa City, Iowa'\n",
    "    expanded = expand_address(query)\n",
    "    \n",
    "    # return normalized address or notify\n",
    "    directions = ['nb', 'eb', 'sb', 'wb']\n",
    "    if (len(expanded) > 0):\n",
    "        bestCand = expanded[0]\n",
    "        if (bestCand[:2]) in directions:\n",
    "            return bestCand[3:]\n",
    "        else:\n",
    "            return bestCand\n",
    "    else:\n",
    "        print (raw + ' did not expand!')"
   ]
  },
  {
   "cell_type": "code",
   "execution_count": 4,
   "metadata": {
    "collapsed": false
   },
   "outputs": [
    {
     "data": {
      "text/html": [
       "<div>\n",
       "<table border=\"1\" class=\"dataframe\">\n",
       "  <thead>\n",
       "    <tr style=\"text-align: right;\">\n",
       "      <th></th>\n",
       "      <th>incDate</th>\n",
       "      <th>name</th>\n",
       "      <th>age</th>\n",
       "      <th>homeAddr</th>\n",
       "      <th>incAddr</th>\n",
       "      <th>date2</th>\n",
       "      <th>chargeCode</th>\n",
       "      <th>charge</th>\n",
       "      <th>incTime</th>\n",
       "      <th>homeCity</th>\n",
       "      <th>homeState</th>\n",
       "      <th>homeZip</th>\n",
       "    </tr>\n",
       "  </thead>\n",
       "  <tbody>\n",
       "    <tr>\n",
       "      <th>0</th>\n",
       "      <td>10/12/16</td>\n",
       "      <td>KESSELL, BRANDON GAGE</td>\n",
       "      <td>18</td>\n",
       "      <td>1232 BURGE HALL</td>\n",
       "      <td>HANCHER FOOT BRIDGE EAST</td>\n",
       "      <td>NaN</td>\n",
       "      <td>124.401</td>\n",
       "      <td>POSSESSION:CONTROL SUBSTANCE</td>\n",
       "      <td>1:13</td>\n",
       "      <td>IOWA CITY</td>\n",
       "      <td>IA</td>\n",
       "      <td>52242</td>\n",
       "    </tr>\n",
       "    <tr>\n",
       "      <th>1</th>\n",
       "      <td>10/12/16</td>\n",
       "      <td>KESSELL, BRANDON GAGE</td>\n",
       "      <td>18</td>\n",
       "      <td>1232 BURGE HALL</td>\n",
       "      <td>HANCHER FOOT BRIDGE EAST</td>\n",
       "      <td>NaN</td>\n",
       "      <td>124.414</td>\n",
       "      <td>DRUG PARAPHERNALIA</td>\n",
       "      <td>1:13</td>\n",
       "      <td>IOWA CITY</td>\n",
       "      <td>IA</td>\n",
       "      <td>52242</td>\n",
       "    </tr>\n",
       "  </tbody>\n",
       "</table>\n",
       "</div>"
      ],
      "text/plain": [
       "    incDate                   name  age         homeAddr  \\\n",
       "0  10/12/16  KESSELL, BRANDON GAGE   18  1232 BURGE HALL   \n",
       "1  10/12/16  KESSELL, BRANDON GAGE   18  1232 BURGE HALL   \n",
       "\n",
       "                    incAddr date2 chargeCode                        charge  \\\n",
       "0  HANCHER FOOT BRIDGE EAST   NaN    124.401  POSSESSION:CONTROL SUBSTANCE   \n",
       "1  HANCHER FOOT BRIDGE EAST   NaN    124.414            DRUG PARAPHERNALIA   \n",
       "\n",
       "  incTime   homeCity homeState homeZip  \n",
       "0    1:13  IOWA CITY        IA   52242  \n",
       "1    1:13  IOWA CITY        IA   52242  "
      ]
     },
     "execution_count": 4,
     "metadata": {},
     "output_type": "execute_result"
    }
   ],
   "source": [
    "# read in: add cols, parse dates, ...\n",
    "\n",
    "arrDF = pd.read_csv(arrestsRaw)\n",
    "arrDF.rename(columns={'arrLocation': 'incAddr', 'date': 'incDate', 'time': 'incTime', 'address': 'homeAddr'}, inplace=True)\n",
    "\n",
    "arrDF.head(2)"
   ]
  },
  {
   "cell_type": "code",
   "execution_count": 5,
   "metadata": {
    "collapsed": true
   },
   "outputs": [],
   "source": [
    "# read the dates and construct a time stamp\n",
    "arrDF.incDate = pd.to_datetime(arrDF.incDate) # date"
   ]
  },
  {
   "cell_type": "code",
   "execution_count": 14,
   "metadata": {
    "collapsed": false
   },
   "outputs": [],
   "source": [
    "def createTimestamp(date, time):\n",
    "    \n",
    "    # janky way of getting the time vals\n",
    "    hrs = int(time.split(':')[0])\n",
    "    mns = int(time.split(':')[1])\n",
    "    \n",
    "    date1 = datetime.datetime(year=date.year, month=date.month, day=date.day, hour=hrs, minute=mns)\n",
    "    return date1\n",
    "    \n",
    "arrDF['timestamp'] = arrDF.apply(lambda x: createTimestamp(x.incDate, x.incTime), axis=1)"
   ]
  },
  {
   "cell_type": "code",
   "execution_count": 12,
   "metadata": {
    "collapsed": true
   },
   "outputs": [],
   "source": [
    "# address normalization\n",
    "arrDF.incAddr = arrDF.incAddr.str.lower()\n",
    "arrDF.incAddr = arrDF.incAddr.apply(lambda x: formatAddr(x))"
   ]
  },
  {
   "cell_type": "markdown",
   "metadata": {},
   "source": [
    "- Charges, and their codes\n",
    "- Addresses cleaned out\n",
    "- [*DONE*] Timestamp by combining the date and time fields?"
   ]
  },
  {
   "cell_type": "code",
   "execution_count": 31,
   "metadata": {
    "collapsed": false
   },
   "outputs": [],
   "source": [
    "# charges\n",
    "#pd.unique(arrDF[['chargeCode', 'charge']].values.ravel())\n",
    "charges = arrDF[['chargeCode', 'charge', 'age']].groupby(['chargeCode', 'charge']).count()\\\n",
    "    .rename(columns={'age':'count'})\\\n",
    "    .sort_values('count', ascending=False)\n",
    "charges.to_csv((chargeDir + 'ui-charge-codes.csv'))"
   ]
  },
  {
   "cell_type": "markdown",
   "metadata": {},
   "source": [
    "---\n",
    "\n",
    "***Saving***"
   ]
  },
  {
   "cell_type": "code",
   "execution_count": 17,
   "metadata": {
    "collapsed": true
   },
   "outputs": [],
   "source": [
    "# save that ish\n",
    "arrDF.to_pickle((processDir + 'ui-police-docket.pickle'))\n",
    "arrDF.to_csv((processDir + 'ui-police-docket.csv'), index=False)"
   ]
  },
  {
   "cell_type": "code",
   "execution_count": null,
   "metadata": {
    "collapsed": true
   },
   "outputs": [],
   "source": []
  }
 ],
 "metadata": {
  "anaconda-cloud": {},
  "kernelspec": {
   "display_name": "Python [conda env:py27]",
   "language": "python",
   "name": "conda-env-py27-py"
  },
  "language_info": {
   "codemirror_mode": {
    "name": "ipython",
    "version": 2
   },
   "file_extension": ".py",
   "mimetype": "text/x-python",
   "name": "python",
   "nbconvert_exporter": "python",
   "pygments_lexer": "ipython2",
   "version": "2.7.12"
  }
 },
 "nbformat": 4,
 "nbformat_minor": 1
}
