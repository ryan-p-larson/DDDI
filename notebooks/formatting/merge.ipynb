{
 "cells": [
  {
   "cell_type": "markdown",
   "metadata": {},
   "source": [
    "# **Filter & Merging**\n",
    "\n",
    "Combine all three data sources and trim some columns we don't need."
   ]
  },
  {
   "cell_type": "code",
   "execution_count": 1,
   "metadata": {
    "collapsed": true
   },
   "outputs": [],
   "source": [
    "# Libraries\n",
    "\n",
    "from postal.expand import expand_address\n",
    "import pandas as pd\n",
    "import pickle"
   ]
  },
  {
   "cell_type": "code",
   "execution_count": 2,
   "metadata": {
    "collapsed": true
   },
   "outputs": [],
   "source": [
    "# directories\n",
    "\n",
    "# input\n",
    "dataDir = '../../data/external/'\n",
    "icDir = dataDir + 'iowa-city-police/'\n",
    "uiDir = dataDir + 'ui-police/'\n",
    "\n",
    "# output\n",
    "processDir = '../../data/processed/'\n",
    "chargeDir = processDir + 'charges/'\n",
    "icOut = processDir + 'iowa-city-police/'\n",
    "uiOut = processDir + 'ui-police/'"
   ]
  },
  {
   "cell_type": "code",
   "execution_count": null,
   "metadata": {
    "collapsed": true
   },
   "outputs": [],
   "source": [
    "# Dataframes\n",
    "#citeDF = pd.read_pickle((icOut + 'icpd-cites.pickle'))\n",
    "arrDF = pd.read_pickle((icOut + 'arrests-icpd.pickle'))\n",
    "dockDF = pd.read_pickle((uiOut + 'ui-police-docket.pickle'))"
   ]
  },
  {
   "cell_type": "code",
   "execution_count": 8,
   "metadata": {
    "collapsed": true
   },
   "outputs": [],
   "source": [
    "# labels\n",
    "arrLabels = pd.read_csv((chargeDir + 'ic-charges.csv'), index_col='charge')\n",
    "dockLabels = pd.read_csv((chargeDir + 'ui-charges.csv'), index_col='charge')\n",
    "\n",
    "arrDict = arrLabels['category'].to_dict()\n",
    "dockDict = dockLabels['category'].to_dict()"
   ]
  },
  {
   "cell_type": "markdown",
   "metadata": {},
   "source": [
    "### Columns, Variables"
   ]
  },
  {
   "cell_type": "code",
   "execution_count": null,
   "metadata": {
    "collapsed": false
   },
   "outputs": [],
   "source": [
    "#citeDF.columns"
   ]
  },
  {
   "cell_type": "code",
   "execution_count": null,
   "metadata": {
    "collapsed": false
   },
   "outputs": [],
   "source": [
    "arrDF.columns"
   ]
  },
  {
   "cell_type": "code",
   "execution_count": null,
   "metadata": {
    "collapsed": false
   },
   "outputs": [],
   "source": [
    "dockDF.columns"
   ]
  },
  {
   "cell_type": "markdown",
   "metadata": {},
   "source": [
    "We want to keep the following variables, and we'll work our way towards this schema:\n",
    "\n",
    "```\n",
    "Arrest Record\n",
    "---------------------------------\n",
    "    name (last, first middle)\n",
    "    age\n",
    "    date/timestamp (unix)\n",
    "    incAddr\n",
    "    charge\n",
    "```"
   ]
  },
  {
   "cell_type": "code",
   "execution_count": null,
   "metadata": {
    "collapsed": false
   },
   "outputs": [],
   "source": [
    "# Name\n",
    "#citeDF['name'] = citeDF['lName'] + ', ' + citeDF['fName']"
   ]
  },
  {
   "cell_type": "code",
   "execution_count": null,
   "metadata": {
    "collapsed": false
   },
   "outputs": [],
   "source": [
    "# dob parsing\n",
    "#citeDF.dropna(subset=['dob'], inplace=True)\n",
    "#citeDF['dob'] = pd.to_datetime(citeDF.dob, infer_datetime_format=True, exact=False, errors='coerce')"
   ]
  },
  {
   "cell_type": "code",
   "execution_count": 3,
   "metadata": {
    "collapsed": false
   },
   "outputs": [],
   "source": [
    "# Age in years, 365 days in a year\n",
    "def calcAge(dob, inc):\n",
    "    \n",
    "    # error handling\n",
    "    if ((type(dob) or type(inc)) != pd.tslib.Timestamp):\n",
    "        return\n",
    "    \n",
    "    td = abs((inc - dob).days)\n",
    "    return int(td // 365)"
   ]
  },
  {
   "cell_type": "code",
   "execution_count": null,
   "metadata": {
    "collapsed": false
   },
   "outputs": [],
   "source": [
    "#citeDF['age'] = citeDF.apply(lambda x: calcAge(x.dob, x.incDate), axis=1)\n",
    "#citeDF.head(2)"
   ]
  },
  {
   "cell_type": "markdown",
   "metadata": {},
   "source": [
    "Now we move onto the Iowa City Police Department arrests. We only need...\n",
    "\n",
    "- [x]Age calculation\n",
    "- [ ] Timestamp to UTC calc"
   ]
  },
  {
   "cell_type": "code",
   "execution_count": 5,
   "metadata": {
    "collapsed": false
   },
   "outputs": [],
   "source": [
    "# age\n",
    "arrDF['age'] = arrDF.apply(lambda x: calcAge(x.dob, x.incDate), axis=1)"
   ]
  },
  {
   "cell_type": "code",
   "execution_count": 10,
   "metadata": {
    "collapsed": true
   },
   "outputs": [],
   "source": [
    "arrDF['category'] = arrDF.charge.apply(lambda x: arrDict[x])"
   ]
  },
  {
   "cell_type": "markdown",
   "metadata": {},
   "source": [
    "University of Iowa Police docket, renaming to make it easier when we filter cols."
   ]
  },
  {
   "cell_type": "code",
   "execution_count": 11,
   "metadata": {
    "collapsed": false
   },
   "outputs": [],
   "source": [
    "dockDF.rename(columns={'incAddr': 'incFormAddr'}, inplace=True)"
   ]
  },
  {
   "cell_type": "code",
   "execution_count": 16,
   "metadata": {
    "collapsed": false
   },
   "outputs": [],
   "source": [
    "# add groups\n",
    "dockDF['category'] = dockDF.charge.apply(lambda x: dockDict[x] if (dockDict.has_key(x)) else '')"
   ]
  },
  {
   "cell_type": "code",
   "execution_count": 13,
   "metadata": {
    "collapsed": false
   },
   "outputs": [
    {
     "ename": "KeyError",
     "evalue": "'CITY,PUBLIC URINATION & DEFECATION'",
     "output_type": "error",
     "traceback": [
      "\u001b[0;31m---------------------------------------------------------------------------\u001b[0m",
      "\u001b[0;31mKeyError\u001b[0m                                  Traceback (most recent call last)",
      "\u001b[0;32m<ipython-input-13-45d67a26e1df>\u001b[0m in \u001b[0;36m<module>\u001b[0;34m()\u001b[0m\n\u001b[0;32m----> 1\u001b[0;31m \u001b[0mdockDict\u001b[0m\u001b[0;34m[\u001b[0m\u001b[0;34m'CITY,PUBLIC URINATION & DEFECATION'\u001b[0m\u001b[0;34m]\u001b[0m\u001b[0;34m\u001b[0m\u001b[0m\n\u001b[0m",
      "\u001b[0;31mKeyError\u001b[0m: 'CITY,PUBLIC URINATION & DEFECATION'"
     ]
    }
   ],
   "source": []
  },
  {
   "cell_type": "markdown",
   "metadata": {},
   "source": [
    "---\n",
    "\n",
    "Now we filter the columns, so that we have a slimmer dataset thats normalized. We'll also add the type of criminal activity (source) in a column."
   ]
  },
  {
   "cell_type": "code",
   "execution_count": 17,
   "metadata": {
    "collapsed": true
   },
   "outputs": [],
   "source": [
    "# add that column to each df\n",
    "# citeDF['source'] = 'c'\n",
    "arrDF['source'] = 'a'\n",
    "dockDF['source'] = 'd'"
   ]
  },
  {
   "cell_type": "code",
   "execution_count": 22,
   "metadata": {
    "collapsed": false
   },
   "outputs": [],
   "source": [
    "# filter columns\n",
    "slimCols = ['name', 'age', 'incDate', 'timestamp', 'category', 'charge', 'incFormAddr', 'source']\n",
    "\n",
    "# and combine!\n",
    "# combDF = pd.concat([citeDF[slimCols], arrDF[slimCols], dockDF[slimCols]])\n",
    "combDF = pd.concat([arrDF[slimCols], dockDF[slimCols]])"
   ]
  },
  {
   "cell_type": "code",
   "execution_count": 23,
   "metadata": {
    "collapsed": false
   },
   "outputs": [
    {
     "name": "stdout",
     "output_type": "stream",
     "text": [
      "86406 total records\n",
      "86406 after dropping those without a charge,\n",
      "0 deleted\n"
     ]
    }
   ],
   "source": [
    "# drop records without a charge, because that's (in the end), what we're interested in.\n",
    "\n",
    "before = combDF.shape[0]\n",
    "print ('{} total records'.format(before))\n",
    "\n",
    "combDF.dropna(subset=['charge'], inplace=True)\n",
    "\n",
    "print ('{} after dropping those without a charge,\\n{} deleted'\\\n",
    "      .format(combDF.shape[0], before - combDF.shape[0]))"
   ]
  },
  {
   "cell_type": "code",
   "execution_count": 24,
   "metadata": {
    "collapsed": false
   },
   "outputs": [],
   "source": [
    "# SAVE THAT ISH OUT\n",
    "combDF.to_pickle((processDir + 'combined-activity.pickle'))\n",
    "combDF.to_csv((processDir + 'combined-activity.csv'), index=False)"
   ]
  },
  {
   "cell_type": "code",
   "execution_count": 26,
   "metadata": {
    "collapsed": false
   },
   "outputs": [
    {
     "data": {
      "text/html": [
       "<div>\n",
       "<table border=\"1\" class=\"dataframe\">\n",
       "  <thead>\n",
       "    <tr style=\"text-align: right;\">\n",
       "      <th></th>\n",
       "      <th>name</th>\n",
       "      <th>age</th>\n",
       "      <th>incDate</th>\n",
       "      <th>timestamp</th>\n",
       "      <th>category</th>\n",
       "      <th>charge</th>\n",
       "      <th>incFormAddr</th>\n",
       "      <th>source</th>\n",
       "    </tr>\n",
       "  </thead>\n",
       "  <tbody>\n",
       "    <tr>\n",
       "      <th>27437</th>\n",
       "      <td>SCHREINER, SCOTT  ANDREW</td>\n",
       "      <td>22.0</td>\n",
       "      <td>1994-07-07</td>\n",
       "      <td>1994-07-07 02:12:00</td>\n",
       "      <td>PUBLIC INTOX</td>\n",
       "      <td>PUBLIC INTOX</td>\n",
       "      <td>van allen loading dock iowa city iowa</td>\n",
       "      <td>d</td>\n",
       "    </tr>\n",
       "    <tr>\n",
       "      <th>27438</th>\n",
       "      <td>HENRY, BURL  LYNN</td>\n",
       "      <td>31.0</td>\n",
       "      <td>1994-06-29</td>\n",
       "      <td>1994-06-29 00:45:00</td>\n",
       "      <td>ASSAULT</td>\n",
       "      <td>ASSAULT C/SER INJURY</td>\n",
       "      <td>lindquist building iowa city iowa</td>\n",
       "      <td>d</td>\n",
       "    </tr>\n",
       "    <tr>\n",
       "      <th>27439</th>\n",
       "      <td>HENRY, BURL  LYNN</td>\n",
       "      <td>31.0</td>\n",
       "      <td>1994-06-29</td>\n",
       "      <td>1994-06-29 00:45:00</td>\n",
       "      <td>CRIMINAL MISCHIEF</td>\n",
       "      <td>CRIMINAL MISCHIEF 2ND DEGREE</td>\n",
       "      <td>lindquist building iowa city iowa</td>\n",
       "      <td>d</td>\n",
       "    </tr>\n",
       "    <tr>\n",
       "      <th>27440</th>\n",
       "      <td>HENRY, BURL  LYNN</td>\n",
       "      <td>31.0</td>\n",
       "      <td>1994-06-29</td>\n",
       "      <td>1994-06-29 00:45:00</td>\n",
       "      <td>ASSAULT</td>\n",
       "      <td>ASSAULT C/SER INJURY</td>\n",
       "      <td>lindquist building iowa city iowa</td>\n",
       "      <td>d</td>\n",
       "    </tr>\n",
       "    <tr>\n",
       "      <th>27441</th>\n",
       "      <td>AYLSWORTH,</td>\n",
       "      <td>41.0</td>\n",
       "      <td>1994-06-28</td>\n",
       "      <td>1994-06-28 18:00:00</td>\n",
       "      <td>THEFT</td>\n",
       "      <td>THEFT 5TH - BY DECEPTION</td>\n",
       "      <td>hospital ramp interstate iowa city iowa</td>\n",
       "      <td>d</td>\n",
       "    </tr>\n",
       "  </tbody>\n",
       "</table>\n",
       "</div>"
      ],
      "text/plain": [
       "                           name   age    incDate           timestamp  \\\n",
       "27437  SCHREINER, SCOTT  ANDREW  22.0 1994-07-07 1994-07-07 02:12:00   \n",
       "27438         HENRY, BURL  LYNN  31.0 1994-06-29 1994-06-29 00:45:00   \n",
       "27439         HENRY, BURL  LYNN  31.0 1994-06-29 1994-06-29 00:45:00   \n",
       "27440         HENRY, BURL  LYNN  31.0 1994-06-29 1994-06-29 00:45:00   \n",
       "27441                AYLSWORTH,  41.0 1994-06-28 1994-06-28 18:00:00   \n",
       "\n",
       "                category                        charge  \\\n",
       "27437       PUBLIC INTOX                  PUBLIC INTOX   \n",
       "27438            ASSAULT          ASSAULT C/SER INJURY   \n",
       "27439  CRIMINAL MISCHIEF  CRIMINAL MISCHIEF 2ND DEGREE   \n",
       "27440            ASSAULT          ASSAULT C/SER INJURY   \n",
       "27441              THEFT      THEFT 5TH - BY DECEPTION   \n",
       "\n",
       "                                   incFormAddr source  \n",
       "27437    van allen loading dock iowa city iowa      d  \n",
       "27438        lindquist building iowa city iowa      d  \n",
       "27439        lindquist building iowa city iowa      d  \n",
       "27440        lindquist building iowa city iowa      d  \n",
       "27441  hospital ramp interstate iowa city iowa      d  "
      ]
     },
     "execution_count": 26,
     "metadata": {},
     "output_type": "execute_result"
    }
   ],
   "source": [
    "combDF.tail()"
   ]
  },
  {
   "cell_type": "code",
   "execution_count": null,
   "metadata": {
    "collapsed": true
   },
   "outputs": [],
   "source": []
  }
 ],
 "metadata": {
  "anaconda-cloud": {},
  "kernelspec": {
   "display_name": "Python [conda env:py27]",
   "language": "python",
   "name": "conda-env-py27-py"
  },
  "language_info": {
   "codemirror_mode": {
    "name": "ipython",
    "version": 2
   },
   "file_extension": ".py",
   "mimetype": "text/x-python",
   "name": "python",
   "nbconvert_exporter": "python",
   "pygments_lexer": "ipython2",
   "version": "2.7.12"
  }
 },
 "nbformat": 4,
 "nbformat_minor": 1
}
